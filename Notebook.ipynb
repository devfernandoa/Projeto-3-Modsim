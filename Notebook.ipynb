{
 "cells": [
  {
   "cell_type": "markdown",
   "id": "7a2bda81",
   "metadata": {},
   "source": [
    "# Insper - Modelagem e Simulação do Mundo Físico  \n",
    "\n",
    "## Projeto 3 - Lançamento Oblíquo de uma Bola de Basquete com Rotação\n",
    "---"
   ]
  },
  {
   "cell_type": "code",
   "execution_count": null,
   "id": "2b773bf7",
   "metadata": {},
   "outputs": [],
   "source": [
    "# Importa bibliotecas necessárias\n",
    "from scipy.integrate import odeint\n",
    "import numpy as np\n",
    "import matplotlib.pyplot as plt"
   ]
  },
  {
   "cell_type": "markdown",
   "id": "ba73a916",
   "metadata": {},
   "source": [
    "---\n",
    "# Modelo inicial e validação"
   ]
  },
  {
   "cell_type": "markdown",
   "id": "f1ba493e",
   "metadata": {},
   "source": [
    "---\n",
    "### Código do modelo inicial com equações:"
   ]
  },
  {
   "cell_type": "code",
   "execution_count": null,
   "id": "99320ca9",
   "metadata": {},
   "outputs": [],
   "source": [
    "def modelo(lista, t):\n",
    "    x, y, z, vx, vy, vz, r = lista[0], lista[1], lista[2], lista[3], lista[4], lista[5], lista[6]\n",
    "    \n",
    "    # Equações de posição\n",
    "    dxdt = \n",
    "    dydt = \n",
    "    dzdt = \n",
    "    \n",
    "    # Equações de velocidade\n",
    "    dvxdt = \n",
    "    dvydt = \n",
    "    dvzdt = \n",
    "    \n",
    "    # Equação da rotação\n",
    "    drdt = \n",
    "    \n",
    "    lista_return = [dxdt, dydt, dzdt, dvxdt, dvydt, dvzdt, drdt]\n",
    "    return lista_return"
   ]
  },
  {
   "cell_type": "markdown",
   "id": "9cfddbf9",
   "metadata": {},
   "source": [
    "---\n",
    "### Definindo parâmetros iníciais e rodando odeint:"
   ]
  },
  {
   "cell_type": "code",
   "execution_count": null,
   "id": "74617123",
   "metadata": {},
   "outputs": [],
   "source": [
    "# Parâmetros\n",
    "dt = 3 * 10 ** -3\n",
    "lista_tempo = np.arange(0, 5, dt)\n",
    "A = \n",
    "pa =\n",
    "cd = \n",
    "distancia = 17.5 # Distância entre a trave e o escanteio\n",
    "\n",
    "# Condições iniciais\n",
    "x0 = \n",
    "vx0 = \n",
    "y0 =\n",
    "vy0 = \n",
    "z0 = \n",
    "vz0 = \n",
    "r0 =\n",
    "ci = [x0, y0, z0, vx0, vy0, vz0, r0]\n",
    "\n",
    "odeint_modelo = odeint(modelo, lista_tempo, ci)\n",
    "x_odeint = odeint_modelo[:,0]\n",
    "y_odeint = odeint_modelo[:,1]\n",
    "z_odeint = odeint_modelo[:,2]\n",
    "vx_odeint = odeint_modelo[:,3]\n",
    "vy_odeint = odeint_modelo[:,4]\n",
    "vz_odeint = odeint_modelo[:,5]\n",
    "r_odeint = odeint_modelo[:,6]"
   ]
  },
  {
   "cell_type": "markdown",
   "id": "b839af67",
   "metadata": {},
   "source": [
    "---\n",
    "### Gráfico inicial para a validação:"
   ]
  },
  {
   "cell_type": "code",
   "execution_count": null,
   "id": "041c53d5",
   "metadata": {},
   "outputs": [],
   "source": [
    "plt.plot(x_odeint, y_odeint)\n",
    "plt.xlabel(\"Posição em X (m)\")\n",
    "plt.ylabel(\"Posição em Y (m)\")\n",
    "plt.grid(True)\n",
    "plt.show()"
   ]
  },
  {
   "cell_type": "markdown",
   "id": "8a12287d",
   "metadata": {},
   "source": [
    "---\n",
    "# Início de gráficos conclusivos\n",
    "---"
   ]
  },
  {
   "cell_type": "markdown",
   "id": "87679ba6",
   "metadata": {},
   "source": [
    "### Alterando a rotação inicial da bola"
   ]
  },
  {
   "cell_type": "code",
   "execution_count": null,
   "id": "237a7ddc",
   "metadata": {},
   "outputs": [],
   "source": [
    "lista_rotacoes = [0, 100, 200, 300, 400, 500, 600, 700, 800, 900, 1000]\n",
    "lista_odeint = []\n",
    "tempo_minimo = {}\n",
    "\n",
    "for rotacao in lista_rotacoes:\n",
    "    odeint_rotacao = odeint(x0, y0 z0, vx0, vy0, vz0, rotacao)\n",
    "    lista_odeint.append(odeint_rotacao)\n",
    "    lista_odeint_x = list(odeint_rotacao[:,0])\n",
    "    for i in lista_odeint_x:\n",
    "        # Se for maior que a distância salvar no dicionario\n",
    "        if i > distancia:\n",
    "            tempo_minimo[rotacao] = lista_tempo[lista_odeint_x.index(i)]"
   ]
  }
 ],
 "metadata": {
  "kernelspec": {
   "display_name": "Python 3 (ipykernel)",
   "language": "python",
   "name": "python3"
  },
  "language_info": {
   "codemirror_mode": {
    "name": "ipython",
    "version": 3
   },
   "file_extension": ".py",
   "mimetype": "text/x-python",
   "name": "python",
   "nbconvert_exporter": "python",
   "pygments_lexer": "ipython3",
   "version": "3.9.7"
  }
 },
 "nbformat": 4,
 "nbformat_minor": 5
}
