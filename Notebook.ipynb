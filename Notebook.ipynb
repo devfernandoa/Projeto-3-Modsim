{
 "cells": [
  {
   "cell_type": "markdown",
   "id": "7a2bda81",
   "metadata": {},
   "source": [
    "# Insper - Modelagem e Simulação do Mundo Físico  \n",
    "\n",
    "## Projeto 3 - Lançamento Oblíquo de uma Bola de Basquete com Rotação\n",
    "---\n",
    "---"
   ]
  },
  {
   "cell_type": "code",
   "execution_count": 5,
   "id": "2b773bf7",
   "metadata": {},
   "outputs": [],
   "source": [
    "# Importa bibliotecas necessárias\n",
    "from scipy.integrate import odeint\n",
    "import numpy as np\n",
    "import matplotlib.pyplot as plt\n",
    "import math\n",
    "from mpl_toolkits.mplot3d import Axes3D"
   ]
  },
  {
   "cell_type": "markdown",
   "id": "ba73a916",
   "metadata": {},
   "source": [
    "---\n",
    "---\n",
    "# Modelo inicial e validação"
   ]
  },
  {
   "cell_type": "markdown",
   "id": "f1ba493e",
   "metadata": {},
   "source": [
    "---\n",
    "### Código do modelo inicial com equações:"
   ]
  },
  {
   "cell_type": "code",
   "execution_count": 4,
   "id": "99320ca9",
   "metadata": {},
   "outputs": [
    {
     "ename": "SyntaxError",
     "evalue": "invalid syntax (Temp/ipykernel_22616/3410921970.py, line 5)",
     "output_type": "error",
     "traceback": [
      "\u001b[1;36m  File \u001b[1;32m\"C:\\Users\\fefea\\AppData\\Local\\Temp/ipykernel_22616/3410921970.py\"\u001b[1;36m, line \u001b[1;32m5\u001b[0m\n\u001b[1;33m    dxdt =\u001b[0m\n\u001b[1;37m           ^\u001b[0m\n\u001b[1;31mSyntaxError\u001b[0m\u001b[1;31m:\u001b[0m invalid syntax\n"
     ]
    }
   ],
   "source": [
    "def modelo(lista, t):\n",
    "    x, y, z, vx, vy, vz, r = lista[0], lista[1], lista[2], lista[3], lista[4], lista[5], lista[6]\n",
    "    \n",
    "    # Equações de posição\n",
    "    dxdt = \n",
    "    dydt = \n",
    "    dzdt = \n",
    "    \n",
    "    # Equações de velocidade\n",
    "    dvxdt = \n",
    "    dvydt = \n",
    "    dvzdt = \n",
    "    \n",
    "    # Equação da rotação\n",
    "    drdt = \n",
    "    \n",
    "    lista_return = [dxdt, dydt, dzdt, dvxdt, dvydt, dvzdt, drdt]\n",
    "    return lista_return"
   ]
  },
  {
   "cell_type": "markdown",
   "id": "9cfddbf9",
   "metadata": {},
   "source": [
    "---\n",
    "### Definindo parâmetros iníciais e rodando odeint:"
   ]
  },
  {
   "cell_type": "code",
   "execution_count": null,
   "id": "74617123",
   "metadata": {},
   "outputs": [],
   "source": [
    "# Parâmetros\n",
    "dt = 3 * 10 ** -3\n",
    "lista_tempo = np.arange(0, 5, dt)\n",
    "A = \n",
    "pa =\n",
    "cd =\n",
    "raio = .5\n",
    "distancia = 17.5 # Distância entre a trave e o escanteio\n",
    "\n",
    "# Condições iniciais\n",
    "x0 = \n",
    "vx0 = \n",
    "y0 =\n",
    "vy0 = \n",
    "z0 = \n",
    "vz0 = \n",
    "r0 =\n",
    "ci = [x0, y0, z0, vx0, vy0, vz0, r0]\n",
    "\n",
    "odeint_modelo = odeint(modelo, ci, lista_tempo)\n",
    "x_odeint = odeint_modelo[:,0]\n",
    "y_odeint = odeint_modelo[:,1]\n",
    "z_odeint = odeint_modelo[:,2]\n",
    "vx_odeint = odeint_modelo[:,3]\n",
    "vy_odeint = odeint_modelo[:,4]\n",
    "vz_odeint = odeint_modelo[:,5]\n",
    "r_odeint = odeint_modelo[:,6]"
   ]
  },
  {
   "cell_type": "markdown",
   "id": "b839af67",
   "metadata": {},
   "source": [
    "---\n",
    "### Gráfico inicial para a validação:"
   ]
  },
  {
   "cell_type": "code",
   "execution_count": null,
   "id": "041c53d5",
   "metadata": {},
   "outputs": [],
   "source": [
    "plt.plot(x_odeint, y_odeint)\n",
    "plt.xlabel(\"Posição em X (m)\")\n",
    "plt.ylabel(\"Posição em Y (m)\")\n",
    "plt.grid(True)\n",
    "plt.show()"
   ]
  },
  {
   "cell_type": "markdown",
   "id": "8a12287d",
   "metadata": {},
   "source": [
    "---\n",
    "---\n",
    "# Início de gráficos conclusivos\n",
    "---"
   ]
  },
  {
   "cell_type": "markdown",
   "id": "87679ba6",
   "metadata": {},
   "source": [
    "### Alterando a rotação inicial da bola:"
   ]
  },
  {
   "cell_type": "code",
   "execution_count": null,
   "id": "237a7ddc",
   "metadata": {},
   "outputs": [],
   "source": [
    "lista_rotacoes = np.arrange(0, 1000, 50) / 30 * math.pi\n",
    "lista_odeint = []\n",
    "tempo_minimo = {}\n",
    "\n",
    "for rotacao in lista_rotacoes:\n",
    "    ci = [x0, y0, z0, vx0, vy0, vz0, rotacao]\n",
    "    odeint_rotacao = odeint(modelo, ci, lista_tempo)\n",
    "    lista_odeint.append(odeint_rotacao)\n",
    "    lista_odeint_x = list(odeint_rotacao[:,0])\n",
    "    lista_odeint_z = list(odeint_rotacao[:,2])\n",
    "    for i in range(len(lista_odeint_x)):\n",
    "        # Se for maior que a distância salvar no dicionario\n",
    "        if lista_odeint_x[i] > distancia and lista_odeint_z[i] <= 0 - raio:\n",
    "            tempo_minimo[rotacao] = lista_tempo[i]\n",
    "            break\n",
    "        elif lista_odeint_z[i] <= 0 - raio:\n",
    "            tempo_minimo[rotacao] = -1\n",
    "            break\n",
    "\n",
    "rotacao_minima = 0\n",
    "for rot, tempo in tempo_minimo.items():\n",
    "    if rot < rotacao_minima:\n",
    "        rotacao_minima = rot\n",
    "        menor_tempo = tempo"
   ]
  },
  {
   "cell_type": "markdown",
   "id": "3ed7baf6",
   "metadata": {},
   "source": [
    "---\n",
    "### Gráfico conclusivo com a rotação inicial alterada:"
   ]
  },
  {
   "cell_type": "code",
   "execution_count": null,
   "id": "de6d2f7b",
   "metadata": {},
   "outputs": [],
   "source": [
    "plt.plot(tempo_minimo.keys(), tempo_minimo.values())\n",
    "plt.xlabel(\"Rotação (rad/s)\")\n",
    "plt.ylabel(\"Tempo mínimo (s)\")\n",
    "plt.grid(True)\n",
    "plt.show()"
   ]
  },
  {
   "cell_type": "markdown",
   "id": "8b30928c",
   "metadata": {},
   "source": [
    "--- \n",
    "### Gráfico em 3d com a rotação inicial correta:"
   ]
  },
  {
   "cell_type": "code",
   "execution_count": null,
   "id": "7845f615",
   "metadata": {},
   "outputs": [],
   "source": [
    "# Odeint da rotação certa\n",
    "ci = [x0, y0, z0, vx0, vy0, vz0, 500] # Não é 500, valor arbitrario pra gerar o gráfico\n",
    "odeint_rotacao = odeint(modelo, ci, lista_tempo)\n",
    "x_odeint = odeint_rotacao[:,0]\n",
    "y_odeint = odeint_rotacao[:,1]\n",
    "z_odeint = odeint_rotacao[:,2]\n",
    "\n",
    "fig = plt.figure()\n",
    "ax = fig.gca(projection='3d')\n",
    "ax.plot(x_odeint, y_odeint, z_odeint, label='Curva da bola')\n",
    "ax.legend()"
   ]
  },
  {
   "cell_type": "markdown",
   "id": "ab420aa8",
   "metadata": {},
   "source": [
    "---\n",
    "### Gráfico animado:"
   ]
  },
  {
   "cell_type": "code",
   "execution_count": 10,
   "id": "0977de59",
   "metadata": {},
   "outputs": [
    {
     "name": "stderr",
     "output_type": "stream",
     "text": [
      "c:\\Users\\fefea\\anaconda3\\lib\\site-packages\\scipy\\integrate\\odepack.py:247: ODEintWarning: Excess work done on this call (perhaps wrong Dfun type). Run with full_output = 1 to get quantitative information.\n",
      "  warnings.warn(warning_msg, ODEintWarning)\n",
      "C:\\Users\\fefea\\AppData\\Local\\Temp/ipykernel_22616/4107565840.py:55: MatplotlibDeprecationWarning: Axes3D(fig) adding itself to the figure is deprecated since 3.4. Pass the keyword argument auto_add_to_figure=False and use fig.add_axes(ax) to suppress this warning. The default value of auto_add_to_figure will change to False in mpl3.5 and True values will no longer work in 3.6.  This is consistent with other Axes classes.\n",
      "  ax = Axes3D(fig)\n"
     ]
    }
   ],
   "source": [
    "get_ipython().magic('matplotlib qt5')\n",
    "import matplotlib.patches as patches\n",
    "from matplotlib import animation\n",
    "%matplotlib qt5\n",
    "\n",
    "# Odeint da rotação certa\n",
    "ci = [x0, y0, z0, vx0, vy0, vz0, rotacao_minima] \n",
    "odeint_rotacao = odeint(modelo, ci, lista_tempo)\n",
    "x_odeint = odeint_rotacao[:,0]\n",
    "y_odeint = odeint_rotacao[:,1]\n",
    "z_odeint = odeint_rotacao[:,2]\n",
    "\n",
    "\n",
    "def func(num, dataSet, line):\n",
    "    # NOTE: there is no .set_data() for 3 dim data...\n",
    "    line.set_data(dataSet[0:2, :num])    \n",
    "    line.set_3d_properties(dataSet[2, :num])    \n",
    "    return line\n",
    "\n",
    "dataSet = np.array([x_odeint, y_odeint, z_odeint])\n",
    "numDataPoints = len(z_odeint)\n",
    " \n",
    "# GET SOME MATPLOTLIB OBJECTS\n",
    "fig = plt.figure()\n",
    "ax = Axes3D(fig)\n",
    " \n",
    "# NOTE: Can't pass empty arrays into 3d version of plot()\n",
    "line = plt.plot(dataSet[0], dataSet[1], dataSet[2], lw=2, c='g')[0] # For line plot\n",
    " \n",
    "# AXES PROPERTIES]\n",
    "# ax.set_xlim3d([limit0, limit1])\n",
    "ax.set_xlabel('X(t)')\n",
    "ax.set_ylabel('Y(t)')\n",
    "ax.set_zlabel('time')\n",
    "ax.set_title('Trajectory of electron for E vector along [120]')\n",
    " \n",
    "# Creating the Animation object\n",
    "line_ani = animation.FuncAnimation(fig, func, frames=numDataPoints, fargs=(dataSet,line), interval=50, blit=False)\n",
    "#line_ani.save(r'AnimationNew.mp4')\n",
    " \n",
    " \n",
    "plt.show()"
   ]
  }
 ],
 "metadata": {
  "interpreter": {
   "hash": "5b5988b486d519350c93b99dbd4bdc241b8b47cc9f8321768d5e1889aa0708c8"
  },
  "kernelspec": {
   "display_name": "Python 3.9.7 ('base')",
   "language": "python",
   "name": "python3"
  },
  "language_info": {
   "codemirror_mode": {
    "name": "ipython",
    "version": 3
   },
   "file_extension": ".py",
   "mimetype": "text/x-python",
   "name": "python",
   "nbconvert_exporter": "python",
   "pygments_lexer": "ipython3",
   "version": "3.9.7"
  }
 },
 "nbformat": 4,
 "nbformat_minor": 5
}
