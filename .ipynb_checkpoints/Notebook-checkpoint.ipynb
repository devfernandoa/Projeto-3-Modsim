{
 "cells": [
  {
   "cell_type": "markdown",
   "id": "7a2bda81",
   "metadata": {},
   "source": [
    "# Insper - Modelagem e Simulação do Mundo Físico  \n",
    "\n",
    "## Projeto 3 - Lançamento Oblíquo de uma Bola de Basquete com Rotação\n",
    "---\n",
    "---"
   ]
  },
  {
   "cell_type": "code",
   "execution_count": 2,
   "id": "2b773bf7",
   "metadata": {},
   "outputs": [],
   "source": [
    "# Importa bibliotecas necessárias\n",
    "from scipy.integrate import odeint\n",
    "import numpy as np\n",
    "import matplotlib.pyplot as plt\n",
    "import math\n",
    "from mpl_toolkits.mplot3d import Axes3D\n",
    "import matplotlib.patches as patches\n",
    "from matplotlib import animation"
   ]
  },
  {
   "cell_type": "markdown",
   "id": "ba73a916",
   "metadata": {},
   "source": [
    "---\n",
    "---\n",
    "# Modelos, validação e gráficos"
   ]
  },
  {
   "cell_type": "markdown",
   "id": "e720112a",
   "metadata": {},
   "source": [
    "---\n",
    "---\n",
    "## Modelo desconsiderando a rotação"
   ]
  },
  {
   "cell_type": "markdown",
   "id": "f1ba493e",
   "metadata": {},
   "source": [
    "---\n",
    "### Código do modelo inicial com equações:"
   ]
  },
  {
   "cell_type": "code",
   "execution_count": 3,
   "id": "cd324cc5",
   "metadata": {},
   "outputs": [],
   "source": [
    "def modelo(lista, t):\n",
    "    x, y, vx, vy = lista[0], lista[1], lista[2], lista[3]\n",
    "    V = math.sqrt(vx ** 2 + vy ** 2)\n",
    "     \n",
    "    # Equações de posição\n",
    "    dxdt = vx\n",
    "    dydt = vy\n",
    "  \n",
    "    # Equações de velocidade\n",
    "    dvxdt = (-1/m) * ((1/2) * pa * A * cd * V * vx)\n",
    "    dvydt = ((1/m) * (pa * volume * g - (1/2) * A * cd * V * vy * pa)) - g\n",
    "    \n",
    "    if y < 0:\n",
    "        return [0, 0, 0, 0]\n",
    "    \n",
    "    lista_return = [dxdt, dydt, dvxdt, dvydt]\n",
    "    return lista_return"
   ]
  },
  {
   "cell_type": "markdown",
   "id": "9cfddbf9",
   "metadata": {},
   "source": [
    "---\n",
    "### Definindo parâmetros iníciais e rodando odeint:"
   ]
  },
  {
   "cell_type": "code",
   "execution_count": 4,
   "id": "74617123",
   "metadata": {},
   "outputs": [],
   "source": [
    "# Parâmetros\n",
    "dt = 3 * 10 ** -3\n",
    "lista_tempo = np.arange(0, 10, dt)\n",
    "\n",
    "# A massa, o A, a distancia e o raio são medidas minhas que provavelmente estão erradas\n",
    "raio = 0.11\n",
    "m = 0.4\n",
    "A = math.pi * raio ** 2\n",
    "pa = 1.225 # Densidade do ar\n",
    "cd = 0.47 # Coeficiente de arrasto de uma esfera\n",
    "distancia = 17.5 # Distância entre a trave e o escanteio\n",
    "g = 9.81\n",
    "pb = 2\n",
    "volume = 4 / 3 * math.pi * raio ** 3\n",
    "\n",
    "# Condições iniciais\n",
    "x0 = 0\n",
    "vx0 = 15\n",
    "y0 = 0\n",
    "vy0 = 15\n",
    "ci = [x0, y0, vx0, vy0]\n",
    "\n",
    "odeint_modelo = odeint(modelo, ci, lista_tempo)\n",
    "x_odeint = odeint_modelo[:,0]\n",
    "y_odeint = odeint_modelo[:,1]\n",
    "vx_odeint = odeint_modelo[:,2]\n",
    "vy_odeint = odeint_modelo[:,3]"
   ]
  },
  {
   "cell_type": "markdown",
   "id": "b839af67",
   "metadata": {},
   "source": [
    "---\n",
    "### Gráfico inicial:"
   ]
  },
  {
   "cell_type": "code",
   "execution_count": 5,
   "id": "041c53d5",
   "metadata": {},
   "outputs": [],
   "source": [
    "plt.plot(x_odeint, y_odeint)\n",
    "plt.xlabel(\"Posição em X (m)\")\n",
    "plt.ylabel(\"Posição em Y (m)\")\n",
    "plt.grid(True)\n",
    "plt.axis('equal')\n",
    "plt.show()\n",
    "\n",
    "plt.plot(lista_tempo, x_odeint)\n",
    "plt.xlabel(\"Tempo\")\n",
    "plt.ylabel(\"Posição em X (m)\")\n",
    "plt.grid(True)\n",
    "plt.show()\n",
    "\n",
    "plt.plot(lista_tempo, y_odeint)\n",
    "plt.xlabel(\"Tempo\")\n",
    "plt.ylabel(\"Posição em Y (m)\")\n",
    "plt.grid(True)\n",
    "plt.show()"
   ]
  },
  {
   "cell_type": "markdown",
   "id": "ca7b2350",
   "metadata": {},
   "source": [
    "---\n",
    "---\n",
    "## Modelo considerando a rotação"
   ]
  },
  {
   "cell_type": "markdown",
   "id": "35a0e1c8",
   "metadata": {},
   "source": [
    "---\n",
    "### Código do modelo considerando a rotação:"
   ]
  },
  {
   "cell_type": "code",
   "execution_count": 6,
   "id": "99320ca9",
   "metadata": {},
   "outputs": [],
   "source": [
    "def modelo2(lista, t):\n",
    "    x, y, z, vx, vy, vz, r = lista[0], lista[1], lista[2], lista[3], lista[4], lista[5], lista[6]\n",
    "    V = math.sqrt(vx ** 2 + vy ** 2 + vz ** 2)\n",
    "    V2 = math.sqrt(vz ** 2 + vx ** 2)\n",
    "    \n",
    "    # Arrays para a força magnus\n",
    "    Varray = np.array([vx, vy, vz])\n",
    "    W = np.array([0, r, 0]) \n",
    "    \n",
    "    # Forças magnus\n",
    "    fmag = cl * math.pi * raio ** 3 * np.cross(W, Varray)    \n",
    "    fmagx = fmag[0]\n",
    "    fmagy = fmag[1]\n",
    "    fmagz = fmag[2]\n",
    "    \n",
    "    # Senos e cossenos de teta e phi\n",
    "    cosf = vy / V\n",
    "    senf = V2 / V\n",
    "    \n",
    "    cost = vz / V2\n",
    "    sent = vx / V2\n",
    "    \n",
    "    # Drag\n",
    "    d = 1/2 * pa * A * cd * V ** 2\n",
    "        \n",
    "    # Equações de posição\n",
    "    dxdt = vx\n",
    "    dydt = vy\n",
    "    dzdt = vz\n",
    "    \n",
    "    # Equações de velocidade\n",
    "    dvxdt = (1 / m) * (-d * senf * sent + fmagx)\n",
    "    dvydt = (1 / m) * (-d * cosf - m * g + E + fmagy)\n",
    "    dvzdt = (1 / m) * (-d * senf * cost + fmagz)\n",
    "    \n",
    "    # Equação da rotação\n",
    "    drdt = 0\n",
    "    \n",
    "    if y < 0 or z < 0 or x < 0:\n",
    "        return [0, 0, 0, 0, 0, 0, 0]\n",
    "    \n",
    "    lista_return = [dxdt, dydt, dzdt, dvxdt, dvydt, dvzdt, drdt]\n",
    "    return lista_return"
   ]
  },
  {
   "cell_type": "markdown",
   "id": "4e501a44",
   "metadata": {},
   "source": [
    "---\n",
    "### Definindo parâmetros iníciais e rodando odeint:"
   ]
  },
  {
   "cell_type": "code",
   "execution_count": 7,
   "id": "f79b3868",
   "metadata": {},
   "outputs": [],
   "source": [
    "# Parâmetros\n",
    "dt = 3 * 10 ** -3\n",
    "lista_tempo = np.arange(0, 30, dt)\n",
    "\n",
    "# A massa, o A, a distancia e o raio são medidas minhas que provavelmente estão erradas\n",
    "raio = 0.11\n",
    "m = 0.4\n",
    "A = math.pi * raio ** 2\n",
    "pa = 1.225 # Densidade do ar\n",
    "cd = 0.47 # Coeficiente de arrasto de uma esfera\n",
    "distancia = 17.5 # Distância entre a trave e o escanteio\n",
    "altura = 2.44 # Altura gol de futebol\n",
    "g = 9.81\n",
    "pb = 2\n",
    "volume = 4 / 3 * math.pi * raio ** 3\n",
    "cl = 1\n",
    "\n",
    "    \n",
    "# Empuxo\n",
    "E = pa * volume * g\n",
    "\n",
    "# Condições iniciais\n",
    "x0 = 0\n",
    "vx0 = 15\n",
    "y0 = 0\n",
    "vy0 = 14\n",
    "z0 = 0\n",
    "vz0 = 5\n",
    "r0 = 300 / 30 * math.pi\n",
    "ci = [x0, y0, z0, vx0, vy0, vz0, r0]\n",
    "\n",
    "odeint_modelo = odeint(modelo2, ci, lista_tempo)\n",
    "x_odeint = odeint_modelo[:,0]\n",
    "y_odeint = odeint_modelo[:,1]\n",
    "z_odeint = odeint_modelo[:,2]\n",
    "vx_odeint = odeint_modelo[:,3]\n",
    "vy_odeint = odeint_modelo[:,4]\n",
    "vz_odeint = odeint_modelo[:,5]\n",
    "r_odeint = odeint_modelo[:,6]"
   ]
  },
  {
   "cell_type": "markdown",
   "id": "6e2363fe",
   "metadata": {},
   "source": [
    "---\n",
    "### Gráfico inicial para a validação:"
   ]
  },
  {
   "cell_type": "code",
   "execution_count": 8,
   "id": "965795e0",
   "metadata": {},
   "outputs": [],
   "source": [
    "plt.plot(x_odeint, y_odeint)\n",
    "plt.xlabel(\"Posição em X (m)\")\n",
    "plt.ylabel(\"Posição em Y (m)\")\n",
    "plt.axis('equal')\n",
    "plt.grid(True)\n",
    "plt.show()\n",
    "\n",
    "plt.plot(x_odeint, z_odeint)\n",
    "plt.xlabel(\"Posição em X (m)\")\n",
    "plt.ylabel(\"Posição em Z (m)\")\n",
    "plt.axis('equal')\n",
    "plt.grid(True)\n",
    "plt.show()\n",
    "\n",
    "plt.plot(z_odeint, y_odeint)\n",
    "plt.xlabel(\"Posição em Z (m)\")\n",
    "plt.ylabel(\"Posição em Y (m)\")\n",
    "plt.axis('equal')\n",
    "plt.grid(True)\n",
    "plt.show()"
   ]
  },
  {
   "cell_type": "markdown",
   "id": "8a12287d",
   "metadata": {},
   "source": [
    "---\n",
    "---\n",
    "## Início de gráficos conclusivos\n",
    "---"
   ]
  },
  {
   "cell_type": "markdown",
   "id": "87679ba6",
   "metadata": {},
   "source": [
    "### Alterando a rotação inicial da bola:"
   ]
  },
  {
   "cell_type": "code",
   "execution_count": 9,
   "id": "237a7ddc",
   "metadata": {},
   "outputs": [
    {
     "name": "stderr",
     "output_type": "stream",
     "text": [
      "C:\\Users\\fefea\\anaconda3\\lib\\site-packages\\scipy\\integrate\\odepack.py:247: ODEintWarning: Excess work done on this call (perhaps wrong Dfun type). Run with full_output = 1 to get quantitative information.\n",
      "  warnings.warn(warning_msg, ODEintWarning)\n"
     ]
    }
   ],
   "source": [
    "lista_rotacoes = np.arange(250, 450, 5) / 30 * math.pi\n",
    "lista_odeint = []\n",
    "tempo_minimo = {}\n",
    "\n",
    "for rotacao in lista_rotacoes:\n",
    "    ci = [x0, y0, z0, vx0, vy0, vz0, rotacao]\n",
    "    odeint_rotacao = odeint(modelo2, ci, lista_tempo)\n",
    "    lista_odeint.append(odeint_rotacao)\n",
    "    lista_odeint_x = list(odeint_rotacao[:,0])\n",
    "    lista_odeint_y = list(odeint_rotacao[:,1])\n",
    "    lista_odeint_z = list(odeint_rotacao[:,2])\n",
    "    for i in range(len(lista_odeint_x)):\n",
    "        # Se for maior que a distância salvar no dicionario\n",
    "        if lista_odeint_x[i] > distancia and lista_odeint_z[i] <= 0 and  lista_odeint_y[i] < altura:\n",
    "            tempo_minimo[rotacao] = lista_tempo[i]\n",
    "            break\n",
    "        elif lista_odeint_z[i] < 0 and lista_odeint_x[i] < distancia:\n",
    "            tempo_minimo[rotacao] = -1\n",
    "            break\n",
    "        elif lista_odeint_z[i] < 0 and lista_odeint_x[i] > distancia or lista_odeint_x[i] < 0:\n",
    "            tempo_minimo[rotacao] = -1\n",
    "            break\n",
    "        elif i == len(lista_odeint_x)-1:\n",
    "            tempo_minimo[rotacao] = -1\n",
    "\n",
    "rotacao_minima = 0\n",
    "for rot, tempo in tempo_minimo.items():\n",
    "    if rot > rotacao_minima and tempo != -1:\n",
    "        rotacao_minima = rot\n",
    "        menor_tempo = tempo"
   ]
  },
  {
   "cell_type": "markdown",
   "id": "3ed7baf6",
   "metadata": {},
   "source": [
    "---\n",
    "### Gráfico conclusivo da rotação pelo tempo mínimo para entrar no gol:"
   ]
  },
  {
   "cell_type": "code",
   "execution_count": 10,
   "id": "de6d2f7b",
   "metadata": {},
   "outputs": [
    {
     "name": "stdout",
     "output_type": "stream",
     "text": [
      "{26.179938779914945: -1, 26.703537555513243: -1, 27.227136331111538: -1, 27.75073510670984: -1, 28.274333882308138: -1, 28.797932657906436: -1, 29.321531433504738: 2.406, 29.845130209103033: 2.358, 30.36872898470133: 2.313, 30.892327760299633: 2.2680000000000002, 31.41592653589793: 2.226, 31.93952531149623: 2.184, 32.46312408709453: -1, 32.98672286269283: -1, 33.510321638291124: -1, 34.033920413889426: -1, 34.55751918948772: -1, 35.08111796508602: -1, 35.604716740684324: -1, 36.12831551628262: -1, 36.65191429188092: -1, 37.17551306747922: -1, 37.69911184307752: -1, 38.22271061867581: -1, 38.746309394274114: -1, 39.269908169872416: -1, 39.79350694547071: -1, 40.31710572106901: -1, 40.840704496667314: -1, 41.36430327226561: -1, 41.88790204786391: -1, 42.411500823462205: -1, 42.93509959906051: -1, 43.45869837465881: -1, 43.982297150257104: -1, 44.5058959258554: -1, 45.0294947014537: -1, 45.553093477052: -1, 46.0766922526503: -1, 46.6002910282486: -1}\n"
     ]
    }
   ],
   "source": [
    "chaves = list(tempo_minimo.keys())\n",
    "valores = list(tempo_minimo.values())\n",
    "\n",
    "print(tempo_minimo)\n",
    "\n",
    "plt.plot(chaves, valores, 'ro')\n",
    "plt.xlabel(\"Rotação (rad/s)\")\n",
    "plt.ylabel(\"Tempo mínimo (s) \\n (Onde se Y for -1, a bola saiu)\")\n",
    "plt.grid(True)\n",
    "plt.show()"
   ]
  },
  {
   "cell_type": "markdown",
   "id": "8b30928c",
   "metadata": {},
   "source": [
    "--- \n",
    "### Gráfico em 3d com a rotação inicial minima:"
   ]
  },
  {
   "cell_type": "code",
   "execution_count": 11,
   "id": "7845f615",
   "metadata": {
    "scrolled": true
   },
   "outputs": [
    {
     "name": "stdout",
     "output_type": "stream",
     "text": [
      "31.93952531149623\n",
      "2.1967510336725344\n"
     ]
    },
    {
     "name": "stderr",
     "output_type": "stream",
     "text": [
      "C:\\Users\\fefea\\AppData\\Local\\Temp/ipykernel_20696/2251952352.py:12: MatplotlibDeprecationWarning: Calling gca() with keyword arguments was deprecated in Matplotlib 3.4. Starting two minor releases later, gca() will take no keyword arguments. The gca() function should only be used to get the current axes, or if no axes exist, create new axes with default keyword arguments. To create a new axes with non-default arguments, use plt.axes() or plt.subplot().\n",
      "  ax = fig.gca(projection='3d')\n"
     ]
    },
    {
     "data": {
      "text/plain": [
       "<matplotlib.legend.Legend at 0x1c87c7e5c70>"
      ]
     },
     "execution_count": 11,
     "metadata": {},
     "output_type": "execute_result"
    }
   ],
   "source": [
    "# Odeint da rotação certa\n",
    "print(rotacao_minima)\n",
    "ci = [x0, y0, z0, vx0, vy0, vz0, rotacao_minima] # Não é 500, valor arbitrario pra gerar o gráfico\n",
    "odeint_rotacao = odeint(modelo2, ci, lista_tempo)\n",
    "x_odeint = odeint_rotacao[:,0]\n",
    "y_odeint = odeint_rotacao[:,1]\n",
    "z_odeint = odeint_rotacao[:,2]\n",
    "\n",
    "print(list(y_odeint)[-1])\n",
    "\n",
    "fig = plt.figure()\n",
    "ax = fig.gca(projection='3d')\n",
    "ax.axes.set_xlim3d(left=0, right=30) \n",
    "ax.axes.set_ylim3d(bottom=0, top=30) \n",
    "ax.axes.set_zlim3d(bottom=0, top=30) \n",
    "\n",
    "ax.set_xlabel('X(t)')\n",
    "ax.set_ylabel('Z(t)')\n",
    "ax.set_zlabel('Y(t)')\n",
    "\n",
    "ax.plot(x_odeint, z_odeint, y_odeint, label='Curva da bola')\n",
    "ax.legend()"
   ]
  },
  {
   "cell_type": "markdown",
   "id": "ab420aa8",
   "metadata": {},
   "source": [
    "---\n",
    "### Gráfico animado:"
   ]
  },
  {
   "cell_type": "code",
   "execution_count": 13,
   "id": "0977de59",
   "metadata": {},
   "outputs": [
    {
     "name": "stderr",
     "output_type": "stream",
     "text": [
      "C:\\Users\\fefea\\AppData\\Local\\Temp/ipykernel_20696/3222647059.py:22: MatplotlibDeprecationWarning: Axes3D(fig) adding itself to the figure is deprecated since 3.4. Pass the keyword argument auto_add_to_figure=False and use fig.add_axes(ax) to suppress this warning. The default value of auto_add_to_figure will change to False in mpl3.5 and True values will no longer work in 3.6.  This is consistent with other Axes classes.\n",
      "  ax = Axes3D(fig)\n",
      "C:\\Users\\fefea\\anaconda3\\lib\\site-packages\\matplotlib\\animation.py:973: UserWarning: Animation was deleted without rendering anything. This is most likely unintended. To prevent deletion, assign the Animation to a variable that exists for as long as you need the Animation.\n",
      "  warnings.warn(\n"
     ]
    }
   ],
   "source": [
    "get_ipython().magic('matplotlib qt5')\n",
    "%matplotlib qt5\n",
    "\n",
    "# Odeint da rotação certa\n",
    "ci = [x0, y0, z0, vx0, vy0, vz0, rotacao_minima] \n",
    "odeint_rotacao = odeint(modelo2, ci, lista_tempo)\n",
    "x_odeint = odeint_rotacao[:,0]\n",
    "y_odeint = odeint_rotacao[:,1]\n",
    "z_odeint = odeint_rotacao[:,2]\n",
    "\n",
    "\n",
    "def func(num, dataSet, line):\n",
    "    line.set_data(dataSet[0:2, :num])    \n",
    "    line.set_3d_properties(dataSet[2, :num])    \n",
    "    return line\n",
    "\n",
    "dataSet = np.array([x_odeint, z_odeint, y_odeint])\n",
    "numDataPoints = len(z_odeint)\n",
    " \n",
    "# Criando os objetos de matplotlib\n",
    "fig = plt.figure()\n",
    "ax = Axes3D(fig)\n",
    " \n",
    "line = plt.plot(dataSet[0], dataSet[1], dataSet[2], lw=2, c='g')[0] # For line plot\n",
    " \n",
    "# Propriedades dos eixos\n",
    "ax.axes.set_xlim3d(left=0, right=30) \n",
    "ax.axes.set_ylim3d(bottom=0, top=30) \n",
    "ax.axes.set_zlim3d(bottom=0, top=30) \n",
    "ax.set_xlabel('X(t)')\n",
    "ax.set_ylabel('Z(t)')\n",
    "ax.set_zlabel('Y(t)')\n",
    "ax.set_title('Trajectory of electron for E vector along [120]')\n",
    " \n",
    "# Criando o objeto da animação\n",
    "line_ani = animation.FuncAnimation(fig, func, frames=numDataPoints, fargs=(dataSet,line), interval=1, blit=False)\n",
    "# line_ani.save(r'AnimationNew.mp4') \n",
    " \n",
    " \n",
    "plt.show()"
   ]
  },
  {
   "cell_type": "code",
   "execution_count": null,
   "id": "92eb9f61",
   "metadata": {},
   "outputs": [],
   "source": []
  }
 ],
 "metadata": {
  "interpreter": {
   "hash": "5b5988b486d519350c93b99dbd4bdc241b8b47cc9f8321768d5e1889aa0708c8"
  },
  "kernelspec": {
   "display_name": "Python 3 (ipykernel)",
   "language": "python",
   "name": "python3"
  },
  "language_info": {
   "codemirror_mode": {
    "name": "ipython",
    "version": 3
   },
   "file_extension": ".py",
   "mimetype": "text/x-python",
   "name": "python",
   "nbconvert_exporter": "python",
   "pygments_lexer": "ipython3",
   "version": "3.9.7"
  }
 },
 "nbformat": 4,
 "nbformat_minor": 5
}
